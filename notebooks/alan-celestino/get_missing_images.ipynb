{
 "cells": [
  {
   "cell_type": "code",
   "execution_count": 1,
   "metadata": {},
   "outputs": [],
   "source": [
    "import os\n",
    "from pathlib import Path\n",
    "import pandas as pd"
   ]
  },
  {
   "cell_type": "code",
   "execution_count": 2,
   "metadata": {},
   "outputs": [],
   "source": [
    "DATA = Path(\"/home/alan/Desktop/personal_professional/fastai/mushroom_classifier/images/320\")\n",
    "RES_DIR = Path(\"../resources/\")\n",
    "img_df = pd.read_csv(RES_DIR / \"images_observations.csv\", sep=\"\\t\")"
   ]
  },
  {
   "cell_type": "code",
   "execution_count": 3,
   "metadata": {},
   "outputs": [],
   "source": [
    "listdir = [f for f in os.listdir(DATA) if f.endswith(\".jpg\")]"
   ]
  },
  {
   "cell_type": "code",
   "execution_count": 4,
   "metadata": {},
   "outputs": [
    {
     "data": {
      "text/plain": [
       "1146937"
      ]
     },
     "execution_count": 4,
     "metadata": {},
     "output_type": "execute_result"
    }
   ],
   "source": [
    "len(listdir)"
   ]
  },
  {
   "cell_type": "code",
   "execution_count": 5,
   "metadata": {},
   "outputs": [
    {
     "data": {
      "text/plain": [
       "['114827.jpg',\n",
       " '137649.jpg',\n",
       " '962426.jpg',\n",
       " '1106667.jpg',\n",
       " '987702.jpg',\n",
       " '251549.jpg',\n",
       " '955447.jpg',\n",
       " '10480.jpg',\n",
       " '683561.jpg',\n",
       " '763798.jpg']"
      ]
     },
     "execution_count": 5,
     "metadata": {},
     "output_type": "execute_result"
    }
   ],
   "source": [
    "listdir[:10]"
   ]
  },
  {
   "cell_type": "code",
   "execution_count": 6,
   "metadata": {},
   "outputs": [],
   "source": [
    "listid = [f[:-4] for f in listdir]"
   ]
  },
  {
   "cell_type": "code",
   "execution_count": 7,
   "metadata": {},
   "outputs": [
    {
     "data": {
      "text/plain": [
       "1146937"
      ]
     },
     "execution_count": 7,
     "metadata": {},
     "output_type": "execute_result"
    }
   ],
   "source": [
    "len(listid)"
   ]
  },
  {
   "cell_type": "code",
   "execution_count": 8,
   "metadata": {},
   "outputs": [
    {
     "data": {
      "text/plain": [
       "['114827',\n",
       " '137649',\n",
       " '962426',\n",
       " '1106667',\n",
       " '987702',\n",
       " '251549',\n",
       " '955447',\n",
       " '10480',\n",
       " '683561',\n",
       " '763798']"
      ]
     },
     "execution_count": 8,
     "metadata": {},
     "output_type": "execute_result"
    }
   ],
   "source": [
    "listid[:10]"
   ]
  },
  {
   "cell_type": "code",
   "execution_count": 25,
   "metadata": {},
   "outputs": [],
   "source": [
    "missing = set([str(id_) for id_ in img_df.image_id.values]) - set(listid)"
   ]
  },
  {
   "cell_type": "code",
   "execution_count": 26,
   "metadata": {},
   "outputs": [
    {
     "data": {
      "text/plain": [
       "184"
      ]
     },
     "execution_count": 26,
     "metadata": {},
     "output_type": "execute_result"
    }
   ],
   "source": [
    "len(missing)"
   ]
  },
  {
   "cell_type": "code",
   "execution_count": 27,
   "metadata": {},
   "outputs": [],
   "source": [
    "missing = list(missing)"
   ]
  },
  {
   "cell_type": "code",
   "execution_count": 28,
   "metadata": {},
   "outputs": [
    {
     "data": {
      "text/plain": [
       "['773870',\n",
       " '1083302',\n",
       " '773920',\n",
       " '945883',\n",
       " '1093694',\n",
       " '774104',\n",
       " '774154',\n",
       " '1039869',\n",
       " '1089024',\n",
       " '1140272']"
      ]
     },
     "execution_count": 28,
     "metadata": {},
     "output_type": "execute_result"
    }
   ],
   "source": [
    "missing[:10]"
   ]
  },
  {
   "cell_type": "code",
   "execution_count": 29,
   "metadata": {},
   "outputs": [],
   "source": [
    "missing = [\" acelestino@images.mushroomobserver.org:/images/mo/320/\" + id_ + \".jpg\" for id_ in missing]"
   ]
  },
  {
   "cell_type": "code",
   "execution_count": 30,
   "metadata": {},
   "outputs": [
    {
     "data": {
      "text/plain": [
       "['/images/mo/320/1028909.jpg',\n",
       " '/images/mo/320/1108393.jpg',\n",
       " '/images/mo/320/1028738.jpg',\n",
       " '/images/mo/320/940212.jpg',\n",
       " '/images/mo/320/1110795.jpg',\n",
       " '/images/mo/320/774156.jpg',\n",
       " '/images/mo/320/1111805.jpg',\n",
       " '/images/mo/320/1085659.jpg',\n",
       " '/images/mo/320/1066783.jpg',\n",
       " '/images/mo/320/773904.jpg',\n",
       " '/images/mo/320/773881.jpg',\n",
       " '/images/mo/320/774108.jpg',\n",
       " '/images/mo/320/1035980.jpg',\n",
       " '/images/mo/320/774173.jpg',\n",
       " '/images/mo/320/774098.jpg',\n",
       " '/images/mo/320/773800.jpg',\n",
       " '/images/mo/320/773922.jpg',\n",
       " '/images/mo/320/773903.jpg',\n",
       " '/images/mo/320/773888.jpg',\n",
       " '/images/mo/320/993605.jpg',\n",
       " '/images/mo/320/941968.jpg',\n",
       " '/images/mo/320/994791.jpg',\n",
       " '/images/mo/320/1145816.jpg',\n",
       " '/images/mo/320/1135504.jpg',\n",
       " '/images/mo/320/773889.jpg',\n",
       " '/images/mo/320/773803.jpg',\n",
       " '/images/mo/320/1125200.jpg',\n",
       " '/images/mo/320/1111938.jpg',\n",
       " '/images/mo/320/962251.jpg',\n",
       " '/images/mo/320/773875.jpg',\n",
       " '/images/mo/320/774110.jpg',\n",
       " '/images/mo/320/1091210.jpg',\n",
       " '/images/mo/320/774159.jpg',\n",
       " '/images/mo/320/773799.jpg',\n",
       " '/images/mo/320/773885.jpg',\n",
       " '/images/mo/320/1065488.jpg',\n",
       " '/images/mo/320/774146.jpg',\n",
       " '/images/mo/320/773880.jpg',\n",
       " '/images/mo/320/934830.jpg',\n",
       " '/images/mo/320/1105822.jpg',\n",
       " '/images/mo/320/964017.jpg',\n",
       " '/images/mo/320/774135.jpg',\n",
       " '/images/mo/320/774103.jpg',\n",
       " '/images/mo/320/774155.jpg',\n",
       " '/images/mo/320/1073022.jpg',\n",
       " '/images/mo/320/773873.jpg',\n",
       " '/images/mo/320/774128.jpg',\n",
       " '/images/mo/320/774131.jpg',\n",
       " '/images/mo/320/1051136.jpg',\n",
       " '/images/mo/320/773874.jpg',\n",
       " '/images/mo/320/774137.jpg',\n",
       " '/images/mo/320/773883.jpg',\n",
       " '/images/mo/320/1136990.jpg',\n",
       " '/images/mo/320/773967.jpg',\n",
       " '/images/mo/320/774119.jpg',\n",
       " '/images/mo/320/1102786.jpg',\n",
       " '/images/mo/320/774158.jpg',\n",
       " '/images/mo/320/774042.jpg',\n",
       " '/images/mo/320/774097.jpg',\n",
       " '/images/mo/320/773876.jpg',\n",
       " '/images/mo/320/774160.jpg',\n",
       " '/images/mo/320/1145842.jpg',\n",
       " '/images/mo/320/774175.jpg',\n",
       " '/images/mo/320/1137425.jpg',\n",
       " '/images/mo/320/932429.jpg',\n",
       " '/images/mo/320/774174.jpg',\n",
       " '/images/mo/320/774059.jpg',\n",
       " '/images/mo/320/1097068.jpg',\n",
       " '/images/mo/320/773923.jpg',\n",
       " '/images/mo/320/773911.jpg',\n",
       " '/images/mo/320/773861.jpg',\n",
       " '/images/mo/320/1134857.jpg',\n",
       " '/images/mo/320/774071.jpg',\n",
       " '/images/mo/320/1102603.jpg',\n",
       " '/images/mo/320/773965.jpg',\n",
       " '/images/mo/320/774152.jpg',\n",
       " '/images/mo/320/773898.jpg',\n",
       " '/images/mo/320/1018491.jpg',\n",
       " '/images/mo/320/773798.jpg',\n",
       " '/images/mo/320/774117.jpg',\n",
       " '/images/mo/320/774147.jpg',\n",
       " '/images/mo/320/773912.jpg',\n",
       " '/images/mo/320/774162.jpg',\n",
       " '/images/mo/320/774172.jpg',\n",
       " '/images/mo/320/774043.jpg',\n",
       " '/images/mo/320/1074363.jpg',\n",
       " '/images/mo/320/774122.jpg',\n",
       " '/images/mo/320/975942.jpg',\n",
       " '/images/mo/320/774107.jpg',\n",
       " '/images/mo/320/1020045.jpg',\n",
       " '/images/mo/320/1086936.jpg',\n",
       " '/images/mo/320/774115.jpg',\n",
       " '/images/mo/320/774166.jpg',\n",
       " '/images/mo/320/1109084.jpg',\n",
       " '/images/mo/320/773887.jpg',\n",
       " '/images/mo/320/962203.jpg',\n",
       " '/images/mo/320/773877.jpg',\n",
       " '/images/mo/320/773872.jpg',\n",
       " '/images/mo/320/773909.jpg',\n",
       " '/images/mo/320/774157.jpg',\n",
       " '/images/mo/320/773901.jpg',\n",
       " '/images/mo/320/996723.jpg',\n",
       " '/images/mo/320/773891.jpg',\n",
       " '/images/mo/320/970524.jpg',\n",
       " '/images/mo/320/774116.jpg',\n",
       " '/images/mo/320/773790.jpg',\n",
       " '/images/mo/320/774040.jpg',\n",
       " '/images/mo/320/774130.jpg',\n",
       " '/images/mo/320/1100365.jpg',\n",
       " '/images/mo/320/773802.jpg',\n",
       " '/images/mo/320/774151.jpg',\n",
       " '/images/mo/320/774099.jpg',\n",
       " '/images/mo/320/1096204.jpg',\n",
       " '/images/mo/320/773862.jpg',\n",
       " '/images/mo/320/991281.jpg',\n",
       " '/images/mo/320/1146346.jpg',\n",
       " '/images/mo/320/1048734.jpg',\n",
       " '/images/mo/320/773884.jpg',\n",
       " '/images/mo/320/774106.jpg',\n",
       " '/images/mo/320/1134440.jpg',\n",
       " '/images/mo/320/774041.jpg',\n",
       " '/images/mo/320/774054.jpg',\n",
       " '/images/mo/320/774112.jpg',\n",
       " '/images/mo/320/1127481.jpg',\n",
       " '/images/mo/320/952808.jpg',\n",
       " '/images/mo/320/941541.jpg',\n",
       " '/images/mo/320/1090324.jpg',\n",
       " '/images/mo/320/956884.jpg',\n",
       " '/images/mo/320/773871.jpg',\n",
       " '/images/mo/320/1102822.jpg',\n",
       " '/images/mo/320/773801.jpg',\n",
       " '/images/mo/320/774142.jpg',\n",
       " '/images/mo/320/773890.jpg',\n",
       " '/images/mo/320/773878.jpg',\n",
       " '/images/mo/320/1069310.jpg',\n",
       " '/images/mo/320/945692.jpg',\n",
       " '/images/mo/320/1020182.jpg',\n",
       " '/images/mo/320/773879.jpg',\n",
       " '/images/mo/320/774055.jpg',\n",
       " '/images/mo/320/1071396.jpg',\n",
       " '/images/mo/320/1136230.jpg',\n",
       " '/images/mo/320/1031819.jpg',\n",
       " '/images/mo/320/1091749.jpg',\n",
       " '/images/mo/320/773966.jpg',\n",
       " '/images/mo/320/773902.jpg',\n",
       " '/images/mo/320/774129.jpg',\n",
       " '/images/mo/320/951393.jpg',\n",
       " '/images/mo/320/773863.jpg',\n",
       " '/images/mo/320/774171.jpg',\n",
       " '/images/mo/320/774113.jpg',\n",
       " '/images/mo/320/1056894.jpg',\n",
       " '/images/mo/320/947367.jpg',\n",
       " '/images/mo/320/774153.jpg',\n",
       " '/images/mo/320/773910.jpg',\n",
       " '/images/mo/320/774063.jpg',\n",
       " '/images/mo/320/1121736.jpg',\n",
       " '/images/mo/320/774136.jpg',\n",
       " '/images/mo/320/1081681.jpg',\n",
       " '/images/mo/320/1094202.jpg',\n",
       " '/images/mo/320/774105.jpg',\n",
       " '/images/mo/320/774118.jpg',\n",
       " '/images/mo/320/1002323.jpg',\n",
       " '/images/mo/320/774176.jpg',\n",
       " '/images/mo/320/1144307.jpg',\n",
       " '/images/mo/320/774109.jpg',\n",
       " '/images/mo/320/774114.jpg',\n",
       " '/images/mo/320/773864.jpg',\n",
       " '/images/mo/320/773882.jpg',\n",
       " '/images/mo/320/1008623.jpg',\n",
       " '/images/mo/320/1077368.jpg',\n",
       " '/images/mo/320/774145.jpg',\n",
       " '/images/mo/320/773886.jpg',\n",
       " '/images/mo/320/773921.jpg',\n",
       " '/images/mo/320/996725.jpg']"
      ]
     },
     "execution_count": 30,
     "metadata": {},
     "output_type": "execute_result"
    }
   ],
   "source": [
    "missing[10:]"
   ]
  },
  {
   "cell_type": "code",
   "execution_count": 31,
   "metadata": {},
   "outputs": [],
   "source": [
    "with open(RES_DIR / \"missing.txt\", \"w\") as handle:\n",
    "    for file in missing:\n",
    "        handle.write(file + \"\\n\")"
   ]
  },
  {
   "cell_type": "code",
   "execution_count": null,
   "metadata": {},
   "outputs": [],
   "source": []
  }
 ],
 "metadata": {
  "kernelspec": {
   "display_name": "Python 3",
   "language": "python",
   "name": "python3"
  },
  "language_info": {
   "codemirror_mode": {
    "name": "ipython",
    "version": 3
   },
   "file_extension": ".py",
   "mimetype": "text/x-python",
   "name": "python",
   "nbconvert_exporter": "python",
   "pygments_lexer": "ipython3",
   "version": "3.7.4"
  }
 },
 "nbformat": 4,
 "nbformat_minor": 2
}
